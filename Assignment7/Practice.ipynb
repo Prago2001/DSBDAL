{
 "cells": [
  {
   "cell_type": "code",
   "execution_count": 1,
   "id": "d0e109a7",
   "metadata": {},
   "outputs": [],
   "source": [
    "text = \"For example, Pune Circle — which comprises three divisions in Pune and Solapur district — had planned to plant 17 lakh saplings on forest land. However, it may not meet the target due to unavailability of funds.\""
   ]
  },
  {
   "cell_type": "code",
   "execution_count": 4,
   "id": "ded8c43c",
   "metadata": {},
   "outputs": [],
   "source": [
    "import nltk\n",
    "import pandas as pd\n",
    "import numpy as np"
   ]
  },
  {
   "cell_type": "code",
   "execution_count": 5,
   "id": "c27d2b8f",
   "metadata": {},
   "outputs": [],
   "source": [
    "sentences = nltk.sent_tokenize(text)"
   ]
  },
  {
   "cell_type": "code",
   "execution_count": 7,
   "id": "5e512185",
   "metadata": {},
   "outputs": [],
   "source": [
    "wordTokenizer = nltk.RegexpTokenizer(\"[\\w']+\")"
   ]
  },
  {
   "cell_type": "code",
   "execution_count": 8,
   "id": "05278d01",
   "metadata": {},
   "outputs": [],
   "source": [
    "corpusLength = len(sentences)"
   ]
  },
  {
   "cell_type": "code",
   "execution_count": 17,
   "id": "ec9fcd85",
   "metadata": {},
   "outputs": [],
   "source": [
    "uniqueWords = set()\n",
    "for sent in sentences:\n",
    "    group = wordTokenizer.tokenize(sent)\n",
    "    for word in group:\n",
    "        uniqueWords.add(word)"
   ]
  },
  {
   "cell_type": "code",
   "execution_count": 20,
   "id": "bc422ad6",
   "metadata": {},
   "outputs": [],
   "source": [
    "uniqueLength = len(uniqueWords)   "
   ]
  },
  {
   "cell_type": "code",
   "execution_count": 21,
   "id": "5a242c66",
   "metadata": {},
   "outputs": [],
   "source": [
    "tf = pd.DataFrame(np.zeros((corpusLength,uniqueLength)),columns=uniqueWords)"
   ]
  },
  {
   "cell_type": "code",
   "execution_count": 28,
   "id": "dff22446",
   "metadata": {},
   "outputs": [],
   "source": [
    "for i,sent in enumerate(sentences):\n",
    "    words = wordTokenizer.tokenize(sent)\n",
    "    wordLen = len(words)\n",
    "    for word in words:\n",
    "        tf[word][i] += (1/wordLen)"
   ]
  },
  {
   "cell_type": "code",
   "execution_count": 31,
   "id": "23592697",
   "metadata": {},
   "outputs": [
    {
     "data": {
      "text/plain": [
       "{'may': 0.3010299956639812,\n",
       " 'to': 0.0,\n",
       " 'forest': 0.3010299956639812,\n",
       " 'saplings': 0.3010299956639812,\n",
       " 'the': 0.3010299956639812,\n",
       " 'Circle': 0.3010299956639812,\n",
       " 'lakh': 0.3010299956639812,\n",
       " 'funds': 0.3010299956639812,\n",
       " 'and': 0.3010299956639812,\n",
       " 'Solapur': 0.3010299956639812,\n",
       " 'due': 0.3010299956639812,\n",
       " 'meet': 0.3010299956639812,\n",
       " '17': 0.3010299956639812,\n",
       " 'comprises': 0.3010299956639812,\n",
       " 'unavailability': 0.3010299956639812,\n",
       " 'district': 0.3010299956639812,\n",
       " 'land': 0.3010299956639812,\n",
       " 'target': 0.3010299956639812,\n",
       " 'in': 0.3010299956639812,\n",
       " 'not': 0.3010299956639812,\n",
       " 'on': 0.3010299956639812,\n",
       " 'it': 0.3010299956639812,\n",
       " 'three': 0.3010299956639812,\n",
       " 'divisions': 0.3010299956639812,\n",
       " 'For': 0.3010299956639812,\n",
       " 'example': 0.3010299956639812,\n",
       " 'Pune': 0.3010299956639812,\n",
       " 'had': 0.3010299956639812,\n",
       " 'of': 0.3010299956639812,\n",
       " 'However': 0.3010299956639812,\n",
       " 'plant': 0.3010299956639812,\n",
       " 'planned': 0.3010299956639812,\n",
       " 'which': 0.3010299956639812}"
      ]
     },
     "execution_count": 31,
     "metadata": {},
     "output_type": "execute_result"
    }
   ],
   "source": [
    "idf = {}\n",
    "splitSent = wordTokenizer.tokenize_sents(sentences)\n",
    "for word in uniqueWords:\n",
    "    count = 0\n",
    "    for split in splitSent:\n",
    "        if word in split:\n",
    "            count += 1\n",
    "    idf[word] = np.log10(corpusLength/count)\n",
    "idf"
   ]
  },
  {
   "cell_type": "code",
   "execution_count": 35,
   "id": "ae98e831",
   "metadata": {},
   "outputs": [
    {
     "data": {
      "text/html": [
       "<div>\n",
       "<style scoped>\n",
       "    .dataframe tbody tr th:only-of-type {\n",
       "        vertical-align: middle;\n",
       "    }\n",
       "\n",
       "    .dataframe tbody tr th {\n",
       "        vertical-align: top;\n",
       "    }\n",
       "\n",
       "    .dataframe thead th {\n",
       "        text-align: right;\n",
       "    }\n",
       "</style>\n",
       "<table border=\"1\" class=\"dataframe\">\n",
       "  <thead>\n",
       "    <tr style=\"text-align: right;\">\n",
       "      <th></th>\n",
       "      <th>may</th>\n",
       "      <th>to</th>\n",
       "      <th>forest</th>\n",
       "      <th>saplings</th>\n",
       "      <th>the</th>\n",
       "      <th>Circle</th>\n",
       "      <th>lakh</th>\n",
       "      <th>funds</th>\n",
       "      <th>and</th>\n",
       "      <th>Solapur</th>\n",
       "      <th>...</th>\n",
       "      <th>divisions</th>\n",
       "      <th>For</th>\n",
       "      <th>example</th>\n",
       "      <th>Pune</th>\n",
       "      <th>had</th>\n",
       "      <th>of</th>\n",
       "      <th>However</th>\n",
       "      <th>plant</th>\n",
       "      <th>planned</th>\n",
       "      <th>which</th>\n",
       "    </tr>\n",
       "  </thead>\n",
       "  <tbody>\n",
       "    <tr>\n",
       "      <th>0</th>\n",
       "      <td>0.000000</td>\n",
       "      <td>0.043478</td>\n",
       "      <td>0.043478</td>\n",
       "      <td>0.043478</td>\n",
       "      <td>0.000000</td>\n",
       "      <td>0.043478</td>\n",
       "      <td>0.043478</td>\n",
       "      <td>0.000000</td>\n",
       "      <td>0.043478</td>\n",
       "      <td>0.043478</td>\n",
       "      <td>...</td>\n",
       "      <td>0.043478</td>\n",
       "      <td>0.043478</td>\n",
       "      <td>0.043478</td>\n",
       "      <td>0.086957</td>\n",
       "      <td>0.043478</td>\n",
       "      <td>0.000000</td>\n",
       "      <td>0.000000</td>\n",
       "      <td>0.043478</td>\n",
       "      <td>0.043478</td>\n",
       "      <td>0.043478</td>\n",
       "    </tr>\n",
       "    <tr>\n",
       "      <th>1</th>\n",
       "      <td>0.083333</td>\n",
       "      <td>0.083333</td>\n",
       "      <td>0.000000</td>\n",
       "      <td>0.000000</td>\n",
       "      <td>0.083333</td>\n",
       "      <td>0.000000</td>\n",
       "      <td>0.000000</td>\n",
       "      <td>0.083333</td>\n",
       "      <td>0.000000</td>\n",
       "      <td>0.000000</td>\n",
       "      <td>...</td>\n",
       "      <td>0.000000</td>\n",
       "      <td>0.000000</td>\n",
       "      <td>0.000000</td>\n",
       "      <td>0.000000</td>\n",
       "      <td>0.000000</td>\n",
       "      <td>0.083333</td>\n",
       "      <td>0.083333</td>\n",
       "      <td>0.000000</td>\n",
       "      <td>0.000000</td>\n",
       "      <td>0.000000</td>\n",
       "    </tr>\n",
       "  </tbody>\n",
       "</table>\n",
       "<p>2 rows × 33 columns</p>\n",
       "</div>"
      ],
      "text/plain": [
       "        may        to    forest  saplings       the    Circle      lakh  \\\n",
       "0  0.000000  0.043478  0.043478  0.043478  0.000000  0.043478  0.043478   \n",
       "1  0.083333  0.083333  0.000000  0.000000  0.083333  0.000000  0.000000   \n",
       "\n",
       "      funds       and   Solapur  ...  divisions       For   example      Pune  \\\n",
       "0  0.000000  0.043478  0.043478  ...   0.043478  0.043478  0.043478  0.086957   \n",
       "1  0.083333  0.000000  0.000000  ...   0.000000  0.000000  0.000000  0.000000   \n",
       "\n",
       "        had        of   However     plant   planned     which  \n",
       "0  0.043478  0.000000  0.000000  0.043478  0.043478  0.043478  \n",
       "1  0.000000  0.083333  0.083333  0.000000  0.000000  0.000000  \n",
       "\n",
       "[2 rows x 33 columns]"
      ]
     },
     "execution_count": 35,
     "metadata": {},
     "output_type": "execute_result"
    }
   ],
   "source": [
    "tf_idf = tf.copy()\n",
    "for i,sent in enumerate(sentences):\n",
    "    words = wordTokenizer.tokenize(sent)\n",
    "    for word in words:\n",
    "        tf_idf.at[i,word] = tf.at[i,word] * idf[word]\n",
    "tf"
   ]
  },
  {
   "cell_type": "code",
   "execution_count": 36,
   "id": "57906b53",
   "metadata": {},
   "outputs": [
    {
     "data": {
      "text/html": [
       "<div>\n",
       "<style scoped>\n",
       "    .dataframe tbody tr th:only-of-type {\n",
       "        vertical-align: middle;\n",
       "    }\n",
       "\n",
       "    .dataframe tbody tr th {\n",
       "        vertical-align: top;\n",
       "    }\n",
       "\n",
       "    .dataframe thead th {\n",
       "        text-align: right;\n",
       "    }\n",
       "</style>\n",
       "<table border=\"1\" class=\"dataframe\">\n",
       "  <thead>\n",
       "    <tr style=\"text-align: right;\">\n",
       "      <th></th>\n",
       "      <th>may</th>\n",
       "      <th>to</th>\n",
       "      <th>forest</th>\n",
       "      <th>saplings</th>\n",
       "      <th>the</th>\n",
       "      <th>Circle</th>\n",
       "      <th>lakh</th>\n",
       "      <th>funds</th>\n",
       "      <th>and</th>\n",
       "      <th>Solapur</th>\n",
       "      <th>...</th>\n",
       "      <th>divisions</th>\n",
       "      <th>For</th>\n",
       "      <th>example</th>\n",
       "      <th>Pune</th>\n",
       "      <th>had</th>\n",
       "      <th>of</th>\n",
       "      <th>However</th>\n",
       "      <th>plant</th>\n",
       "      <th>planned</th>\n",
       "      <th>which</th>\n",
       "    </tr>\n",
       "  </thead>\n",
       "  <tbody>\n",
       "    <tr>\n",
       "      <th>0</th>\n",
       "      <td>0.000000</td>\n",
       "      <td>0.0</td>\n",
       "      <td>0.013088</td>\n",
       "      <td>0.013088</td>\n",
       "      <td>0.000000</td>\n",
       "      <td>0.013088</td>\n",
       "      <td>0.013088</td>\n",
       "      <td>0.000000</td>\n",
       "      <td>0.013088</td>\n",
       "      <td>0.013088</td>\n",
       "      <td>...</td>\n",
       "      <td>0.013088</td>\n",
       "      <td>0.013088</td>\n",
       "      <td>0.013088</td>\n",
       "      <td>0.026177</td>\n",
       "      <td>0.013088</td>\n",
       "      <td>0.000000</td>\n",
       "      <td>0.000000</td>\n",
       "      <td>0.013088</td>\n",
       "      <td>0.013088</td>\n",
       "      <td>0.013088</td>\n",
       "    </tr>\n",
       "    <tr>\n",
       "      <th>1</th>\n",
       "      <td>0.025086</td>\n",
       "      <td>0.0</td>\n",
       "      <td>0.000000</td>\n",
       "      <td>0.000000</td>\n",
       "      <td>0.025086</td>\n",
       "      <td>0.000000</td>\n",
       "      <td>0.000000</td>\n",
       "      <td>0.025086</td>\n",
       "      <td>0.000000</td>\n",
       "      <td>0.000000</td>\n",
       "      <td>...</td>\n",
       "      <td>0.000000</td>\n",
       "      <td>0.000000</td>\n",
       "      <td>0.000000</td>\n",
       "      <td>0.000000</td>\n",
       "      <td>0.000000</td>\n",
       "      <td>0.025086</td>\n",
       "      <td>0.025086</td>\n",
       "      <td>0.000000</td>\n",
       "      <td>0.000000</td>\n",
       "      <td>0.000000</td>\n",
       "    </tr>\n",
       "  </tbody>\n",
       "</table>\n",
       "<p>2 rows × 33 columns</p>\n",
       "</div>"
      ],
      "text/plain": [
       "        may   to    forest  saplings       the    Circle      lakh     funds  \\\n",
       "0  0.000000  0.0  0.013088  0.013088  0.000000  0.013088  0.013088  0.000000   \n",
       "1  0.025086  0.0  0.000000  0.000000  0.025086  0.000000  0.000000  0.025086   \n",
       "\n",
       "        and   Solapur  ...  divisions       For   example      Pune       had  \\\n",
       "0  0.013088  0.013088  ...   0.013088  0.013088  0.013088  0.026177  0.013088   \n",
       "1  0.000000  0.000000  ...   0.000000  0.000000  0.000000  0.000000  0.000000   \n",
       "\n",
       "         of   However     plant   planned     which  \n",
       "0  0.000000  0.000000  0.013088  0.013088  0.013088  \n",
       "1  0.025086  0.025086  0.000000  0.000000  0.000000  \n",
       "\n",
       "[2 rows x 33 columns]"
      ]
     },
     "execution_count": 36,
     "metadata": {},
     "output_type": "execute_result"
    }
   ],
   "source": [
    "tf_idf"
   ]
  },
  {
   "cell_type": "code",
   "execution_count": null,
   "id": "cb011b68",
   "metadata": {},
   "outputs": [],
   "source": []
  }
 ],
 "metadata": {
  "kernelspec": {
   "display_name": "Python 3",
   "language": "python",
   "name": "python3"
  },
  "language_info": {
   "codemirror_mode": {
    "name": "ipython",
    "version": 3
   },
   "file_extension": ".py",
   "mimetype": "text/x-python",
   "name": "python",
   "nbconvert_exporter": "python",
   "pygments_lexer": "ipython3",
   "version": "3.8.10"
  }
 },
 "nbformat": 4,
 "nbformat_minor": 5
}
